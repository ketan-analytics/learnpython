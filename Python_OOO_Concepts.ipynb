{
  "nbformat": 4,
  "nbformat_minor": 0,
  "metadata": {
    "colab": {
      "name": "Python OOO Concepts.ipynb",
      "provenance": [],
      "collapsed_sections": [],
      "authorship_tag": "ABX9TyMBjcAZAQwLD38HtPWoR7ct",
      "include_colab_link": true
    },
    "kernelspec": {
      "name": "python3",
      "display_name": "Python 3"
    }
  },
  "cells": [
    {
      "cell_type": "markdown",
      "metadata": {
        "id": "view-in-github",
        "colab_type": "text"
      },
      "source": [
        "<a href=\"https://colab.research.google.com/github/ketan-analytics/learnpython/blob/master/Python_OOO_Concepts.ipynb\" target=\"_parent\"><img src=\"https://colab.research.google.com/assets/colab-badge.svg\" alt=\"Open In Colab\"/></a>"
      ]
    },
    {
      "cell_type": "code",
      "metadata": {
        "id": "9cT7rpf3dQpv",
        "colab_type": "code",
        "colab": {
          "base_uri": "https://localhost:8080/",
          "height": 34
        },
        "outputId": "358c506e-2c39-44e3-c9ac-4dd638f7ec5e"
      },
      "source": [
        "import math\n",
        "\n",
        "class Pizza:\n",
        "    def __init__(self, radius,ingredients):\n",
        "        self.ingredients = ingredients\n",
        "        self.radius=radius\n",
        "\n",
        "    def __repr__(self):\n",
        "        return f'Pizza({self.ingredients})'\n",
        "\n",
        "    def area(self):\n",
        "      return self._circle_area(self.radius)\n",
        "\n",
        "    @staticmethod\n",
        "    def _circle_area(r):\n",
        "        return r**2 * math.pi\n",
        "\n",
        "Pizza(4.5,'Cheese').area()"
      ],
      "execution_count": 1,
      "outputs": [
        {
          "output_type": "execute_result",
          "data": {
            "text/plain": [
              "63.61725123519331"
            ]
          },
          "metadata": {
            "tags": []
          },
          "execution_count": 1
        }
      ]
    },
    {
      "cell_type": "code",
      "metadata": {
        "id": "5iEt8V30eaVk",
        "colab_type": "code",
        "colab": {}
      },
      "source": [
        "from google.colab import drive\n",
        "drive.mount('/content/drive')"
      ],
      "execution_count": 0,
      "outputs": []
    },
    {
      "cell_type": "code",
      "metadata": {
        "id": "1Zcz8ywXd7Kq",
        "colab_type": "code",
        "colab": {
          "base_uri": "https://localhost:8080/",
          "height": 34
        },
        "outputId": "7d62f615-5691-4722-b60f-d9aac3b971a6"
      },
      "source": [
        "Pizza._circle_area(12)"
      ],
      "execution_count": 2,
      "outputs": [
        {
          "output_type": "execute_result",
          "data": {
            "text/plain": [
              "452.3893421169302"
            ]
          },
          "metadata": {
            "tags": []
          },
          "execution_count": 2
        }
      ]
    }
  ]
}